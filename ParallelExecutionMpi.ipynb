{
 "cells": [
  {
   "cell_type": "markdown",
   "metadata": {},
   "source": [
    "<img src=\"http://oproject.org/tiki-download_file.php?fileId=8&display&x=450&y=128\">\n",
    "<img src=\"http://files.oproject.org/tmvalogo.png\" height=\"50%\" width=\"50%\">\n",
    "<h1><span style=\"color: #326197\">TMVA::ParallelExecutorMpi</span></h1>\n",
    "This is the new class <b>TMVA::ParallelExecutorMpi</b> that is  inheriting from <b>TMVA::ParallelExecutorBase</b>\n",
    "\n",
    "<h1><span style=\"color: #326197\">Displaying the code </span></h1>\n",
    "If you want to edit it go to <a href=\"/edit/cvmpi.C\" target=\"cvmpi.C\">cvmpi.C</a>"
   ]
  },
  {
   "cell_type": "code",
   "execution_count": 1,
   "metadata": {
    "collapsed": false
   },
   "outputs": [
    {
     "name": "stdout",
     "output_type": "stream",
     "text": [
      "\u001b[36m#\u001b[39;49;00m\u001b[36minclude\u001b[39;49;00m \u001b[37m<TMVA/ParallelExecutorMpi.h>\u001b[39;49;00m\u001b[36m\u001b[39;49;00m\r\n",
      "\u001b[36m#\u001b[39;49;00m\u001b[36minclude\u001b[39;49;00m \u001b[37m<TMVA/DataLoader.h>\u001b[39;49;00m\u001b[36m\u001b[39;49;00m\r\n",
      "\u001b[36m#\u001b[39;49;00m\u001b[36minclude\u001b[39;49;00m \u001b[37m<TMVA/Tools.h>\u001b[39;49;00m\u001b[36m\u001b[39;49;00m\r\n",
      "\u001b[36m#\u001b[39;49;00m\u001b[36minclude\u001b[39;49;00m \u001b[37m<TMVA/CrossValidation.h>\u001b[39;49;00m\u001b[36m\u001b[39;49;00m\r\n",
      "\r\n",
      "\u001b[36m#\u001b[39;49;00m\u001b[36minclude\u001b[39;49;00m \u001b[37m<TMessage.h>\u001b[39;49;00m\u001b[36m\u001b[39;49;00m\r\n",
      "\r\n",
      "\u001b[36mvoid\u001b[39;49;00m \u001b[32mcvmpi\u001b[39;49;00m()\r\n",
      "{\r\n",
      "    TMVA::DataLoader *dataloader=\u001b[34mnew\u001b[39;49;00m TMVA::DataLoader(\u001b[33m\"\u001b[39;49;00m\u001b[33mdataset\u001b[39;49;00m\u001b[33m\"\u001b[39;49;00m);\r\n",
      "    TMVA::ParallelExecutorMpi executor;\r\n",
      "    \r\n",
      "    \u001b[37m//setting up the dataloader in the main process\u001b[39;49;00m\r\n",
      "    \u001b[34mif\u001b[39;49;00m(executor.IsMainProcess()){\r\n",
      "        TFile file(\u001b[33m\"\u001b[39;49;00m\u001b[33mdataset.root\u001b[39;49;00m\u001b[33m\"\u001b[39;49;00m);\r\n",
      "        dataloader=(TMVA::DataLoader *)file.Get(\u001b[33m\"\u001b[39;49;00m\u001b[33mdataset\u001b[39;49;00m\u001b[33m\"\u001b[39;49;00m);\r\n",
      "        file.Close();\r\n",
      "    }\r\n",
      "    \r\n",
      "    \u001b[37m//if it is the main process it will be send else it will be reciev\u001b[39;49;00m\r\n",
      "    executor.SharedDataLoader(dataloader);\r\n",
      "    \r\n",
      "    TMVA::CrossValidation *cv=\u001b[34mnew\u001b[39;49;00m TMVA::CrossValidation(dataloader);\r\n",
      "\r\n",
      "    cv->BookMethod(TMVA::Types::kBDT, \u001b[33m\"\u001b[39;49;00m\u001b[33mBDT\u001b[39;49;00m\u001b[33m\"\u001b[39;49;00m,\r\n",
      "    \u001b[33m\"\u001b[39;49;00m\u001b[33m!H:!V:NTrees=850:MinNodeSize=2.5%:MaxDepth=3:BoostType=AdaBoost:nCuts=20\u001b[39;49;00m\u001b[33m\"\u001b[39;49;00m);\r\n",
      "   \r\n",
      "    cv->SetNumFolds(\u001b[34m8\u001b[39;49;00m);\r\n",
      "  \r\n",
      "    \u001b[34mauto\u001b[39;49;00m results=executor.Execute(cv);\r\n",
      "\r\n",
      "    \u001b[34mif\u001b[39;49;00m(executor.IsMainProcess()){\r\n",
      "        TMVA::MsgLogger::EnableOutput();\r\n",
      "        TMVA::gConfig().SetSilent(kFALSE);   \r\n",
      "        results.Print();\r\n",
      "    }\r\n",
      "}\r\n"
     ]
    }
   ],
   "source": [
    " pygmentize -g cvmpi.C"
   ]
  },
  {
   "cell_type": "markdown",
   "metadata": {},
   "source": [
    "<h1><span style=\"color:#326197\"> Running with mpirun </span></h1>"
   ]
  },
  {
   "cell_type": "code",
   "execution_count": 2,
   "metadata": {
    "collapsed": false
   },
   "outputs": [
    {
     "name": "stdout",
     "output_type": "stream",
     "text": [
      "\r\n",
      "Processing cvmpi.C...\r\n",
      "--- ParallelExecutorMpi(CV)  : Fold  0 ROC-Int : 0.928996\r\n",
      "--- ParallelExecutorMpi(CV)  : Fold  1 ROC-Int : 0.907986\r\n",
      "--- ParallelExecutorMpi(CV)  : Fold  2 ROC-Int : 0.932565\r\n",
      "--- ParallelExecutorMpi(CV)  : Fold  3 ROC-Int : 0.910585\r\n",
      "--- ParallelExecutorMpi(CV)  : Fold  4 ROC-Int : 0.923200\r\n",
      "--- ParallelExecutorMpi(CV)  : Fold  5 ROC-Int : 0.933639\r\n",
      "--- ParallelExecutorMpi(CV)  : Fold  6 ROC-Int : 0.926080\r\n",
      "--- ParallelExecutorMpi(CV)  : Fold  7 ROC-Int : 0.931975\r\n",
      "--- ParallelExecutorMpi(CV)  : ParallelExecutorMpi(CV)\r\n",
      "--- ParallelExecutorMpi(CV)  : Number of Jobs : 1\r\n",
      "--- ParallelExecutorMpi(CV)  : ExecutionTime (Seconds) : 24.432574\r\n"
     ]
    }
   ],
   "source": [
    "mpirun -np 1 root -l -q -b  cvmpi.C"
   ]
  },
  {
   "cell_type": "code",
   "execution_count": 5,
   "metadata": {
    "collapsed": false
   },
   "outputs": [
    {
     "name": "stdout",
     "output_type": "stream",
     "text": [
      "\r\n",
      "Processing cvmpi.C...\r\n",
      "\r\n",
      "Processing cvmpi.C...\r\n",
      "--- ParallelExecutorMpi(CV)  : Fold  4 ROC-Int : 0.923200\r\n",
      "--- ParallelExecutorMpi(CV)  : Fold  0 ROC-Int : 0.928996\r\n",
      "--- ParallelExecutorMpi(CV)  : Fold  1 ROC-Int : 0.907986\r\n",
      "--- ParallelExecutorMpi(CV)  : Fold  5 ROC-Int : 0.933639\r\n",
      "--- ParallelExecutorMpi(CV)  : Fold  2 ROC-Int : 0.932565\r\n",
      "--- ParallelExecutorMpi(CV)  : Fold  6 ROC-Int : 0.926080\r\n",
      "--- ParallelExecutorMpi(CV)  : Fold  3 ROC-Int : 0.910585\r\n",
      "--- ParallelExecutorMpi(CV)  : Fold  7 ROC-Int : 0.931975\r\n",
      "--- ParallelExecutorMpi(CV)  : ParallelExecutorMpi(CV)\r\n",
      "--- ParallelExecutorMpi(CV)  : Number of Jobs : 2\r\n",
      "--- ParallelExecutorMpi(CV)  : ExecutionTime (Seconds) : 12.544671\r\n"
     ]
    }
   ],
   "source": [
    "mpirun -np 2 root -l -q -b  cvmpi.C"
   ]
  },
  {
   "cell_type": "code",
   "execution_count": 6,
   "metadata": {
    "collapsed": false
   },
   "outputs": [
    {
     "name": "stdout",
     "output_type": "stream",
     "text": [
      "\r\n",
      "Processing cvmpi.C...\r\n",
      "\r\n",
      "Processing cvmpi.C...\r\n",
      "\r\n",
      "Processing cvmpi.C...\r\n",
      "\r\n",
      "Processing cvmpi.C...\r\n",
      "--- ParallelExecutorMpi(CV)  : Fold  6 ROC-Int : 0.926080\r\n",
      "--- ParallelExecutorMpi(CV)  : Fold  2 ROC-Int : 0.932565\r\n",
      "--- ParallelExecutorMpi(CV)  : Fold  0 ROC-Int : 0.928996\r\n",
      "--- ParallelExecutorMpi(CV)  : Fold  4 ROC-Int : 0.923200\r\n",
      "--- ParallelExecutorMpi(CV)  : Fold  3 ROC-Int : 0.910585\r\n",
      "--- ParallelExecutorMpi(CV)  : Fold  5 ROC-Int : 0.933639\r\n",
      "--- ParallelExecutorMpi(CV)  : Fold  7 ROC-Int : 0.931975\r\n",
      "--- ParallelExecutorMpi(CV)  : Fold  1 ROC-Int : 0.907986\r\n",
      "--- ParallelExecutorMpi(CV)  : ParallelExecutorMpi(CV)\r\n",
      "--- ParallelExecutorMpi(CV)  : Number of Jobs : 4\r\n",
      "--- ParallelExecutorMpi(CV)  : ExecutionTime (Seconds) : 7.922374\r\n"
     ]
    }
   ],
   "source": [
    "mpirun -np 4 root -l -q -b  cvmpi.C"
   ]
  }
 ],
 "metadata": {
  "kernelspec": {
   "display_name": "Bash",
   "language": "bash",
   "name": "bash"
  },
  "language_info": {
   "codemirror_mode": "shell",
   "file_extension": ".sh",
   "mimetype": "text/x-sh",
   "name": "bash"
  }
 },
 "nbformat": 4,
 "nbformat_minor": 0
}
