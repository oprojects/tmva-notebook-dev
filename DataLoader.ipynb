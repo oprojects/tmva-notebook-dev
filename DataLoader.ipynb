{
 "cells": [
  {
   "cell_type": "markdown",
   "metadata": {},
   "source": [
    "<img src=\"http://oproject.org/tiki-download_file.php?fileId=8&display&x=450&y=128\">\n",
    "<img src=\"http://files.oproject.org/tmvalogo.png\" height=\"50%\" width=\"50%\">\n",
    "<h1><span style=\"color: #326197\"> TMVA::DataLoader class serialization</span></h1>\n",
    "With the serialization of the class TMVA::DataLoader we can to Send/Receive data in parallel computing,<br>\n",
    "but also you can to create your own personalized dataset and use it for multiple algorithms in TMVA sharing it\n",
    "in a ROOT file. "
   ]
  },
  {
   "cell_type": "code",
   "execution_count": 1,
   "metadata": {
    "collapsed": false
   },
   "outputs": [
    {
     "data": {
      "application/javascript": [
       "\n",
       "require(['notebook'],\n",
       "  function() {\n",
       "    IPython.CodeCell.config_defaults.highlight_modes['magic_text/x-c++src'] = {'reg':[/^%%cpp/]};\n",
       "    console.log(\"JupyROOT - %%cpp magic configured\");\n",
       "  }\n",
       ");\n"
      ]
     },
     "metadata": {},
     "output_type": "display_data"
    },
    {
     "name": "stdout",
     "output_type": "stream",
     "text": [
      "Welcome to JupyROOT 6.07/07\n"
     ]
    }
   ],
   "source": [
    "from ROOT import TString,TCut,TFile,TTree,TMVA"
   ]
  },
  {
   "cell_type": "code",
   "execution_count": 2,
   "metadata": {
    "collapsed": false
   },
   "outputs": [
    {
     "name": "stdout",
     "output_type": "stream",
     "text": [
      "--- DataSetInfo              : Dataset[dataset] : Added class \"Signal\"\t with internal class number 0\n",
      "--- Configurable             : Add Tree TreeS of type Signal with 6000 events\n",
      "--- DataSetInfo              : Dataset[dataset] : Added class \"Background\"\t with internal class number 1\n",
      "--- Configurable             : Add Tree TreeB of type Background with 6000 events\n",
      "--- Configurable             : Preparing trees for training and testing...\n"
     ]
    }
   ],
   "source": [
    "#Reading data from Trees\n",
    "input  = TFile.Open( \"http://root.cern.ch/files/tmva_class_example.root\" );\n",
    "Signal = input.TreeS\n",
    "Background = input.TreeB\n",
    "\n",
    "#Creating DataLoader object\n",
    "dataloader = TMVA.DataLoader(\"dataset\")\n",
    "\n",
    "#Creating a dataset configuration\n",
    "dataloader.AddVariable( \"myvar1 := var1+var2\", 'F' )\n",
    "dataloader.AddVariable( \"myvar2 := var1-var2\", \"Expression 2\", \"\", 'F' )\n",
    "dataloader.AddVariable( \"var3\",                \"Variable 3\", \"units\", 'F' )\n",
    "dataloader.AddVariable( \"var4\",                \"Variable 4\", \"units\", 'F' )\n",
    "\n",
    "signalWeight     = 1.0\n",
    "backgroundWeight = 1.0\n",
    "   \n",
    "dataloader.AddSignalTree( Signal,     signalWeight     )\n",
    "dataloader.AddBackgroundTree( Background, backgroundWeight )\n",
    "dataloader.SetBackgroundWeightExpression( \"weight\" )\n",
    "\n",
    "#Loading the configuration into the DataLoader object\n",
    "dataloaderOpt = \"nTrain_Signal=2000:nTrain_Background=2000:SplitMode=Random:NormMode=NumEvents:!V\"\n",
    "dataloader.PrepareTrainingAndTestTree(TCut(\"\"),TCut(\"\"), dataloaderOpt)\n",
    "\n",
    "#Saving DataLoader\n",
    "output=TFile.Open(\"dataset.root\",\"RECREATE\")\n",
    "dataloader.Write(\"dataset\")\n",
    "\n",
    "#closing the files\n",
    "output.Close()\n",
    "input.Close()\n"
   ]
  }
 ],
 "metadata": {
  "kernelspec": {
   "display_name": "Python 2",
   "language": "python",
   "name": "python2"
  },
  "language_info": {
   "codemirror_mode": {
    "name": "ipython",
    "version": 2
   },
   "file_extension": ".py",
   "mimetype": "text/x-python",
   "name": "python",
   "nbconvert_exporter": "python",
   "pygments_lexer": "ipython2",
   "version": "2.7.12"
  }
 },
 "nbformat": 4,
 "nbformat_minor": 0
}
